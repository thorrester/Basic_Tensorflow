{
  "nbformat": 4,
  "nbformat_minor": 0,
  "metadata": {
    "colab": {
      "name": "Untitled2.ipynb",
      "provenance": [],
      "include_colab_link": true
    },
    "kernelspec": {
      "name": "python3",
      "display_name": "Python 3"
    },
    "accelerator": "GPU"
  },
  "cells": [
    {
      "cell_type": "markdown",
      "metadata": {
        "id": "view-in-github",
        "colab_type": "text"
      },
      "source": [
        "<a href=\"https://colab.research.google.com/github/thorrester/Basic_Tensorflow/blob/master/colab_keras_imbalance.ipynb\" target=\"_parent\"><img src=\"https://colab.research.google.com/assets/colab-badge.svg\" alt=\"Open In Colab\"/></a>"
      ]
    },
    {
      "cell_type": "code",
      "metadata": {
        "id": "s9COWlme6tqM",
        "colab_type": "code",
        "colab": {
          "base_uri": "https://localhost:8080/",
          "height": 34
        },
        "outputId": "a5be0471-01f6-421d-da78-36f6a25d6b8b"
      },
      "source": [
        "try:\n",
        "  # %tensorflow_version only exists in Colab.\n",
        "  %tensorflow_version 2.x\n",
        "except Exception:\n",
        "  pass\n"
      ],
      "execution_count": 1,
      "outputs": [
        {
          "output_type": "stream",
          "text": [
            "TensorFlow 2.x selected.\n"
          ],
          "name": "stdout"
        }
      ]
    },
    {
      "cell_type": "code",
      "metadata": {
        "id": "hdEnsf068F8k",
        "colab_type": "code",
        "colab": {
          "base_uri": "https://localhost:8080/",
          "height": 34
        },
        "outputId": "ba60e18f-5b40-4235-ed2c-0ac130a33b01"
      },
      "source": [
        "import os\n",
        "os.getcwd()"
      ],
      "execution_count": 8,
      "outputs": [
        {
          "output_type": "execute_result",
          "data": {
            "text/plain": [
              "'/content'"
            ]
          },
          "metadata": {
            "tags": []
          },
          "execution_count": 8
        }
      ]
    },
    {
      "cell_type": "code",
      "metadata": {
        "id": "UdjXKOrZ636U",
        "colab_type": "code",
        "colab": {
          "base_uri": "https://localhost:8080/",
          "height": 122
        },
        "outputId": "2f832aeb-175e-4c32-e4ba-6655c418faec"
      },
      "source": [
        "from google.colab import drive\n",
        "drive.mount('/content/drive')"
      ],
      "execution_count": 10,
      "outputs": [
        {
          "output_type": "stream",
          "text": [
            "Go to this URL in a browser: https://accounts.google.com/o/oauth2/auth?client_id=947318989803-6bn6qk8qdgf4n4g3pfee6491hc0brc4i.apps.googleusercontent.com&redirect_uri=urn%3Aietf%3Awg%3Aoauth%3A2.0%3Aoob&scope=email%20https%3A%2F%2Fwww.googleapis.com%2Fauth%2Fdocs.test%20https%3A%2F%2Fwww.googleapis.com%2Fauth%2Fdrive%20https%3A%2F%2Fwww.googleapis.com%2Fauth%2Fdrive.photos.readonly%20https%3A%2F%2Fwww.googleapis.com%2Fauth%2Fpeopleapi.readonly&response_type=code\n",
            "\n",
            "Enter your authorization code:\n",
            "··········\n",
            "Mounted at /content/drive\n"
          ],
          "name": "stdout"
        }
      ]
    },
    {
      "cell_type": "code",
      "metadata": {
        "id": "vpgY3xK87Bch",
        "colab_type": "code",
        "colab": {
          "base_uri": "https://localhost:8080/",
          "height": 34
        },
        "outputId": "7fd84846-a717-441d-d26c-22233ac4405d"
      },
      "source": [
        "!ls \"/content/drive/My Drive/data\""
      ],
      "execution_count": 17,
      "outputs": [
        {
          "output_type": "stream",
          "text": [
            "creditcard.csv\n"
          ],
          "name": "stdout"
        }
      ]
    },
    {
      "cell_type": "code",
      "metadata": {
        "id": "hPP4AIuB710C",
        "colab_type": "code",
        "colab": {}
      },
      "source": [
        "path = \"/content/drive/My Drive/data\""
      ],
      "execution_count": 0,
      "outputs": []
    },
    {
      "cell_type": "code",
      "metadata": {
        "id": "keaKJklm_bW_",
        "colab_type": "code",
        "colab": {
          "base_uri": "https://localhost:8080/",
          "height": 105
        },
        "outputId": "97646074-354d-41b6-92e5-f98dc8466b13"
      },
      "source": [
        "\n",
        "import csv\n",
        "import numpy as np\n",
        "\n",
        "# Get the real data from https://www.kaggle.com/mlg-ulb/creditcardfraud/downloads/creditcardfraud.zip/\n",
        "fname = path + '/creditcard.csv'\n",
        "\n",
        "all_features = []\n",
        "all_targets = []\n",
        "with open(fname) as f:\n",
        "  for i, line in enumerate(f):\n",
        "    if i == 0:\n",
        "      print('HEADER:', line.strip())\n",
        "      continue  # Skip header\n",
        "    fields = line.strip().split(',')\n",
        "    all_features.append([float(v.replace('\"', '')) for v in fields[:-1]])\n",
        "    all_targets.append([int(fields[-1].replace('\"', ''))])\n",
        "    if i == 1:\n",
        "      print('EXAMPLE FEATURES:', all_features[-1])\n",
        "\n",
        "features = np.array(all_features, dtype='float32')\n",
        "targets = np.array(all_targets, dtype='uint8')\n",
        "print('features.shape:', features.shape)\n",
        "print('targets.shape:', targets.shape)"
      ],
      "execution_count": 22,
      "outputs": [
        {
          "output_type": "stream",
          "text": [
            "HEADER: Time,V1,V2,V3,V4,V5,V6,V7,V8,V9,V10,V11,V12,V13,V14,V15,V16,V17,V18,V19,V20,V21,V22,V23,V24,V25,V26,V27,V28,Amount,Class\n",
            "EXAMPLE FEATURES: [0.0, -1.359807134, -0.072781173, 2.536346738, 1.378155224, -0.33832077, 0.462387778, 0.239598554, 0.098697901, 0.36378697, 0.090794172, -0.551599533, -0.617800856, -0.991389847, -0.311169354, 1.468176972, -0.470400525, 0.207971242, 0.02579058, 0.40399296, 0.251412098, -0.018306778, 0.277837576, -0.11047391, 0.066928075, 0.128539358, -0.189114844, 0.133558377, -0.021053053, 149.62]\n",
            "features.shape: (284807, 30)\n",
            "targets.shape: (284807, 1)\n"
          ],
          "name": "stdout"
        }
      ]
    },
    {
      "cell_type": "code",
      "metadata": {
        "id": "zeH9w4cA_juY",
        "colab_type": "code",
        "colab": {}
      },
      "source": [
        "num_val_samples = int(len(features) * 0.2)\n",
        "train_features = features[:-num_val_samples]\n",
        "train_targets = targets[:-num_val_samples]\n",
        "val_features = features[-num_val_samples:]\n",
        "val_targets = targets[-num_val_samples:]"
      ],
      "execution_count": 0,
      "outputs": []
    },
    {
      "cell_type": "code",
      "metadata": {
        "id": "qZS3IjIf_pKj",
        "colab_type": "code",
        "colab": {
          "base_uri": "https://localhost:8080/",
          "height": 442
        },
        "outputId": "905ca778-fa2c-4fa6-a2f0-cd3d8ae37b32"
      },
      "source": [
        "print('Number of training samples:', len(train_features))\n",
        "print('Number of validation samples:', len(val_features))\n",
        "\n",
        "counts = np.bincount(train_targets[:, 0])\n",
        "print('Number of positive samples in training data: {} ({:.2f}% of total)'.format(counts[1], 100 * float(counts[1]) / len(train_targets)))\n",
        "\n",
        "weight_for_0 = 1. / counts[0]\n",
        "weight_for_1 = 1. / counts[1]\n",
        "print(weight_for_0)\n",
        "print(weight_for_1)\n",
        "\n",
        "mean = np.mean(train_features, axis=0)\n",
        "train_features -= mean\n",
        "val_features -= mean\n",
        "std = np.std(train_features, axis=0)\n",
        "train_features /= std\n",
        "val_features /= std\n",
        "\n",
        "from tensorflow import keras\n",
        "\n",
        "model = keras.Sequential([\n",
        "  keras.layers.Dense(256, activation='relu',\n",
        "                     input_shape=(train_features.shape[-1],)),\n",
        "  keras.layers.Dense(256, activation='relu'),\n",
        "  keras.layers.Dropout(0.3),\n",
        "  keras.layers.Dense(256, activation='relu'),\n",
        "  keras.layers.Dropout(0.3),\n",
        "  keras.layers.Dense(1, activation='sigmoid'),\n",
        "])\n",
        "model.summary()"
      ],
      "execution_count": 26,
      "outputs": [
        {
          "output_type": "stream",
          "text": [
            "Number of training samples: 227846\n",
            "Number of validation samples: 56961\n",
            "Number of positive samples in training data: 417 (0.18% of total)\n",
            "4.396976638863118e-06\n",
            "0.002398081534772182\n",
            "Model: \"sequential_1\"\n",
            "_________________________________________________________________\n",
            "Layer (type)                 Output Shape              Param #   \n",
            "=================================================================\n",
            "dense_4 (Dense)              (None, 256)               7936      \n",
            "_________________________________________________________________\n",
            "dense_5 (Dense)              (None, 256)               65792     \n",
            "_________________________________________________________________\n",
            "dropout_2 (Dropout)          (None, 256)               0         \n",
            "_________________________________________________________________\n",
            "dense_6 (Dense)              (None, 256)               65792     \n",
            "_________________________________________________________________\n",
            "dropout_3 (Dropout)          (None, 256)               0         \n",
            "_________________________________________________________________\n",
            "dense_7 (Dense)              (None, 1)                 257       \n",
            "=================================================================\n",
            "Total params: 139,777\n",
            "Trainable params: 139,777\n",
            "Non-trainable params: 0\n",
            "_________________________________________________________________\n"
          ],
          "name": "stdout"
        }
      ]
    },
    {
      "cell_type": "code",
      "metadata": {
        "id": "SdrrpYmU_rgi",
        "colab_type": "code",
        "colab": {
          "base_uri": "https://localhost:8080/",
          "height": 1000
        },
        "outputId": "e7a6a6f9-a28e-4755-b5de-fd160c1d71d4"
      },
      "source": [
        "metrics = [keras.metrics.FalseNegatives(name='fn'),\n",
        "           keras.metrics.FalsePositives(name='fp'),\n",
        "           keras.metrics.TrueNegatives(name='tn'),\n",
        "           keras.metrics.TruePositives(name='tp'),\n",
        "           keras.metrics.Precision(name='precision'),\n",
        "           keras.metrics.Recall(name='recall')]\n",
        "\n",
        "model.compile(optimizer=keras.optimizers.Adam(1e-2),\n",
        "              loss='binary_crossentropy',\n",
        "              metrics=metrics)\n",
        "\n",
        "callbacks = [keras.callbacks.ModelCheckpoint('fraud_model_at_epoch_{epoch}.h5')]\n",
        "class_weight = {0: weight_for_0, 1: weight_for_1}\n",
        "\n",
        "model.fit(train_features, train_targets,\n",
        "          batch_size=2048,\n",
        "          epochs=50,\n",
        "          verbose=2,\n",
        "          callbacks=callbacks,\n",
        "          validation_data=(val_features, val_targets)\n",
        "          ,class_weight=class_weight)"
      ],
      "execution_count": 27,
      "outputs": [
        {
          "output_type": "stream",
          "text": [
            "Train on 227846 samples, validate on 56961 samples\n",
            "Epoch 1/50\n",
            "227846/227846 - 3s - loss: 2.2383e-06 - fn: 45.0000 - fp: 27451.0000 - tn: 199978.0000 - tp: 372.0000 - precision: 0.0134 - recall: 0.8921 - val_loss: 1.2841e-06 - val_fn: 11.0000 - val_fp: 254.0000 - val_tn: 56632.0000 - val_tp: 64.0000 - val_precision: 0.2013 - val_recall: 0.8533\n",
            "Epoch 2/50\n",
            "227846/227846 - 1s - loss: 1.4847e-06 - fn: 36.0000 - fp: 6970.0000 - tn: 220459.0000 - tp: 381.0000 - precision: 0.0518 - recall: 0.9137 - val_loss: 1.0810e-06 - val_fn: 9.0000 - val_fp: 1506.0000 - val_tn: 55380.0000 - val_tp: 66.0000 - val_precision: 0.0420 - val_recall: 0.8800\n",
            "Epoch 3/50\n",
            "227846/227846 - 1s - loss: 1.3318e-06 - fn: 34.0000 - fp: 8600.0000 - tn: 218829.0000 - tp: 383.0000 - precision: 0.0426 - recall: 0.9185 - val_loss: 1.0501e-06 - val_fn: 9.0000 - val_fp: 750.0000 - val_tn: 56136.0000 - val_tp: 66.0000 - val_precision: 0.0809 - val_recall: 0.8800\n",
            "Epoch 4/50\n",
            "227846/227846 - 1s - loss: 9.7602e-07 - fn: 25.0000 - fp: 6610.0000 - tn: 220819.0000 - tp: 392.0000 - precision: 0.0560 - recall: 0.9400 - val_loss: 8.7808e-07 - val_fn: 7.0000 - val_fp: 2215.0000 - val_tn: 54671.0000 - val_tp: 68.0000 - val_precision: 0.0298 - val_recall: 0.9067\n",
            "Epoch 5/50\n",
            "227846/227846 - 1s - loss: 8.7534e-07 - fn: 20.0000 - fp: 6647.0000 - tn: 220782.0000 - tp: 397.0000 - precision: 0.0564 - recall: 0.9520 - val_loss: 1.0791e-06 - val_fn: 8.0000 - val_fp: 1898.0000 - val_tn: 54988.0000 - val_tp: 67.0000 - val_precision: 0.0341 - val_recall: 0.8933\n",
            "Epoch 6/50\n",
            "227846/227846 - 1s - loss: 7.2074e-07 - fn: 18.0000 - fp: 5985.0000 - tn: 221444.0000 - tp: 399.0000 - precision: 0.0625 - recall: 0.9568 - val_loss: 1.6328e-06 - val_fn: 8.0000 - val_fp: 773.0000 - val_tn: 56113.0000 - val_tp: 67.0000 - val_precision: 0.0798 - val_recall: 0.8933\n",
            "Epoch 7/50\n",
            "227846/227846 - 1s - loss: 1.0126e-06 - fn: 20.0000 - fp: 8772.0000 - tn: 218657.0000 - tp: 397.0000 - precision: 0.0433 - recall: 0.9520 - val_loss: 1.1935e-06 - val_fn: 7.0000 - val_fp: 2960.0000 - val_tn: 53926.0000 - val_tp: 68.0000 - val_precision: 0.0225 - val_recall: 0.9067\n",
            "Epoch 8/50\n",
            "227846/227846 - 1s - loss: 7.3045e-07 - fn: 17.0000 - fp: 6062.0000 - tn: 221367.0000 - tp: 400.0000 - precision: 0.0619 - recall: 0.9592 - val_loss: 1.0680e-06 - val_fn: 7.0000 - val_fp: 1935.0000 - val_tn: 54951.0000 - val_tp: 68.0000 - val_precision: 0.0339 - val_recall: 0.9067\n",
            "Epoch 9/50\n",
            "227846/227846 - 1s - loss: 7.3297e-07 - fn: 12.0000 - fp: 7458.0000 - tn: 219971.0000 - tp: 405.0000 - precision: 0.0515 - recall: 0.9712 - val_loss: 1.8870e-06 - val_fn: 10.0000 - val_fp: 271.0000 - val_tn: 56615.0000 - val_tp: 65.0000 - val_precision: 0.1935 - val_recall: 0.8667\n",
            "Epoch 10/50\n",
            "227846/227846 - 1s - loss: 6.6492e-07 - fn: 10.0000 - fp: 6987.0000 - tn: 220442.0000 - tp: 407.0000 - precision: 0.0550 - recall: 0.9760 - val_loss: 1.4074e-06 - val_fn: 10.0000 - val_fp: 475.0000 - val_tn: 56411.0000 - val_tp: 65.0000 - val_precision: 0.1204 - val_recall: 0.8667\n",
            "Epoch 11/50\n",
            "227846/227846 - 1s - loss: 6.9541e-07 - fn: 11.0000 - fp: 6727.0000 - tn: 220702.0000 - tp: 406.0000 - precision: 0.0569 - recall: 0.9736 - val_loss: 1.3713e-06 - val_fn: 8.0000 - val_fp: 1224.0000 - val_tn: 55662.0000 - val_tp: 67.0000 - val_precision: 0.0519 - val_recall: 0.8933\n",
            "Epoch 12/50\n",
            "227846/227846 - 1s - loss: 5.9133e-07 - fn: 7.0000 - fp: 6316.0000 - tn: 221113.0000 - tp: 410.0000 - precision: 0.0610 - recall: 0.9832 - val_loss: 1.6554e-06 - val_fn: 10.0000 - val_fp: 382.0000 - val_tn: 56504.0000 - val_tp: 65.0000 - val_precision: 0.1454 - val_recall: 0.8667\n",
            "Epoch 13/50\n",
            "227846/227846 - 1s - loss: 4.2893e-07 - fn: 7.0000 - fp: 4822.0000 - tn: 222607.0000 - tp: 410.0000 - precision: 0.0784 - recall: 0.9832 - val_loss: 1.3729e-06 - val_fn: 7.0000 - val_fp: 1686.0000 - val_tn: 55200.0000 - val_tp: 68.0000 - val_precision: 0.0388 - val_recall: 0.9067\n",
            "Epoch 14/50\n",
            "227846/227846 - 1s - loss: 4.6794e-07 - fn: 5.0000 - fp: 5773.0000 - tn: 221656.0000 - tp: 412.0000 - precision: 0.0666 - recall: 0.9880 - val_loss: 2.8976e-06 - val_fn: 10.0000 - val_fp: 299.0000 - val_tn: 56587.0000 - val_tp: 65.0000 - val_precision: 0.1786 - val_recall: 0.8667\n",
            "Epoch 15/50\n",
            "227846/227846 - 1s - loss: 4.7870e-07 - fn: 11.0000 - fp: 5390.0000 - tn: 222039.0000 - tp: 406.0000 - precision: 0.0700 - recall: 0.9736 - val_loss: 2.1628e-06 - val_fn: 9.0000 - val_fp: 1158.0000 - val_tn: 55728.0000 - val_tp: 66.0000 - val_precision: 0.0539 - val_recall: 0.8800\n",
            "Epoch 16/50\n",
            "227846/227846 - 1s - loss: 8.4410e-07 - fn: 12.0000 - fp: 8618.0000 - tn: 218811.0000 - tp: 405.0000 - precision: 0.0449 - recall: 0.9712 - val_loss: 2.0498e-06 - val_fn: 12.0000 - val_fp: 252.0000 - val_tn: 56634.0000 - val_tp: 63.0000 - val_precision: 0.2000 - val_recall: 0.8400\n",
            "Epoch 17/50\n",
            "227846/227846 - 1s - loss: 4.4713e-07 - fn: 7.0000 - fp: 4572.0000 - tn: 222857.0000 - tp: 410.0000 - precision: 0.0823 - recall: 0.9832 - val_loss: 2.7410e-06 - val_fn: 9.0000 - val_fp: 778.0000 - val_tn: 56108.0000 - val_tp: 66.0000 - val_precision: 0.0782 - val_recall: 0.8800\n",
            "Epoch 18/50\n",
            "227846/227846 - 1s - loss: 3.3179e-07 - fn: 2.0000 - fp: 3887.0000 - tn: 223542.0000 - tp: 415.0000 - precision: 0.0965 - recall: 0.9952 - val_loss: 4.2425e-06 - val_fn: 11.0000 - val_fp: 189.0000 - val_tn: 56697.0000 - val_tp: 64.0000 - val_precision: 0.2530 - val_recall: 0.8533\n",
            "Epoch 19/50\n",
            "227846/227846 - 1s - loss: 3.7919e-07 - fn: 4.0000 - fp: 4851.0000 - tn: 222578.0000 - tp: 413.0000 - precision: 0.0785 - recall: 0.9904 - val_loss: 4.0096e-06 - val_fn: 8.0000 - val_fp: 652.0000 - val_tn: 56234.0000 - val_tp: 67.0000 - val_precision: 0.0932 - val_recall: 0.8933\n",
            "Epoch 20/50\n",
            "227846/227846 - 1s - loss: 3.8254e-07 - fn: 4.0000 - fp: 4865.0000 - tn: 222564.0000 - tp: 413.0000 - precision: 0.0782 - recall: 0.9904 - val_loss: 4.5897e-06 - val_fn: 12.0000 - val_fp: 255.0000 - val_tn: 56631.0000 - val_tp: 63.0000 - val_precision: 0.1981 - val_recall: 0.8400\n",
            "Epoch 21/50\n",
            "227846/227846 - 1s - loss: 4.8772e-07 - fn: 4.0000 - fp: 6455.0000 - tn: 220974.0000 - tp: 413.0000 - precision: 0.0601 - recall: 0.9904 - val_loss: 5.1082e-06 - val_fn: 10.0000 - val_fp: 423.0000 - val_tn: 56463.0000 - val_tp: 65.0000 - val_precision: 0.1332 - val_recall: 0.8667\n",
            "Epoch 22/50\n",
            "227846/227846 - 1s - loss: 4.5509e-07 - fn: 4.0000 - fp: 4822.0000 - tn: 222607.0000 - tp: 413.0000 - precision: 0.0789 - recall: 0.9904 - val_loss: 2.8536e-06 - val_fn: 10.0000 - val_fp: 414.0000 - val_tn: 56472.0000 - val_tp: 65.0000 - val_precision: 0.1357 - val_recall: 0.8667\n",
            "Epoch 23/50\n",
            "227846/227846 - 1s - loss: 3.5422e-07 - fn: 4.0000 - fp: 4085.0000 - tn: 223344.0000 - tp: 413.0000 - precision: 0.0918 - recall: 0.9904 - val_loss: 3.7332e-06 - val_fn: 9.0000 - val_fp: 560.0000 - val_tn: 56326.0000 - val_tp: 66.0000 - val_precision: 0.1054 - val_recall: 0.8800\n",
            "Epoch 24/50\n",
            "227846/227846 - 1s - loss: 6.2353e-07 - fn: 5.0000 - fp: 6555.0000 - tn: 220874.0000 - tp: 412.0000 - precision: 0.0591 - recall: 0.9880 - val_loss: 3.0628e-06 - val_fn: 13.0000 - val_fp: 485.0000 - val_tn: 56401.0000 - val_tp: 62.0000 - val_precision: 0.1133 - val_recall: 0.8267\n",
            "Epoch 25/50\n",
            "227846/227846 - 1s - loss: 1.2812e-06 - fn: 11.0000 - fp: 7042.0000 - tn: 220387.0000 - tp: 406.0000 - precision: 0.0545 - recall: 0.9736 - val_loss: 2.2927e-06 - val_fn: 8.0000 - val_fp: 646.0000 - val_tn: 56240.0000 - val_tp: 67.0000 - val_precision: 0.0940 - val_recall: 0.8933\n",
            "Epoch 26/50\n",
            "227846/227846 - 1s - loss: 9.4943e-07 - fn: 14.0000 - fp: 5504.0000 - tn: 221925.0000 - tp: 403.0000 - precision: 0.0682 - recall: 0.9664 - val_loss: 1.2739e-06 - val_fn: 8.0000 - val_fp: 1284.0000 - val_tn: 55602.0000 - val_tp: 67.0000 - val_precision: 0.0496 - val_recall: 0.8933\n",
            "Epoch 27/50\n",
            "227846/227846 - 1s - loss: 9.8849e-07 - fn: 10.0000 - fp: 5761.0000 - tn: 221668.0000 - tp: 407.0000 - precision: 0.0660 - recall: 0.9760 - val_loss: 3.3683e-06 - val_fn: 8.0000 - val_fp: 334.0000 - val_tn: 56552.0000 - val_tp: 67.0000 - val_precision: 0.1671 - val_recall: 0.8933\n",
            "Epoch 28/50\n",
            "227846/227846 - 1s - loss: 5.1313e-07 - fn: 5.0000 - fp: 5199.0000 - tn: 222230.0000 - tp: 412.0000 - precision: 0.0734 - recall: 0.9880 - val_loss: 2.6372e-06 - val_fn: 11.0000 - val_fp: 248.0000 - val_tn: 56638.0000 - val_tp: 64.0000 - val_precision: 0.2051 - val_recall: 0.8533\n",
            "Epoch 29/50\n",
            "227846/227846 - 1s - loss: 4.2591e-07 - fn: 3.0000 - fp: 3466.0000 - tn: 223963.0000 - tp: 414.0000 - precision: 0.1067 - recall: 0.9928 - val_loss: 2.9393e-06 - val_fn: 8.0000 - val_fp: 546.0000 - val_tn: 56340.0000 - val_tp: 67.0000 - val_precision: 0.1093 - val_recall: 0.8933\n",
            "Epoch 30/50\n",
            "227846/227846 - 1s - loss: 3.3938e-07 - fn: 2.0000 - fp: 3925.0000 - tn: 223504.0000 - tp: 415.0000 - precision: 0.0956 - recall: 0.9952 - val_loss: 3.7787e-06 - val_fn: 11.0000 - val_fp: 269.0000 - val_tn: 56617.0000 - val_tp: 64.0000 - val_precision: 0.1922 - val_recall: 0.8533\n",
            "Epoch 31/50\n",
            "227846/227846 - 1s - loss: 2.2945e-07 - fn: 2.0000 - fp: 2113.0000 - tn: 225316.0000 - tp: 415.0000 - precision: 0.1642 - recall: 0.9952 - val_loss: 4.6993e-06 - val_fn: 10.0000 - val_fp: 458.0000 - val_tn: 56428.0000 - val_tp: 65.0000 - val_precision: 0.1243 - val_recall: 0.8667\n",
            "Epoch 32/50\n",
            "227846/227846 - 1s - loss: 2.2496e-07 - fn: 1.0000 - fp: 2239.0000 - tn: 225190.0000 - tp: 416.0000 - precision: 0.1567 - recall: 0.9976 - val_loss: 4.9330e-06 - val_fn: 9.0000 - val_fp: 340.0000 - val_tn: 56546.0000 - val_tp: 66.0000 - val_precision: 0.1626 - val_recall: 0.8800\n",
            "Epoch 33/50\n",
            "227846/227846 - 1s - loss: 1.6348e-07 - fn: 2.0000 - fp: 1634.0000 - tn: 225795.0000 - tp: 415.0000 - precision: 0.2025 - recall: 0.9952 - val_loss: 5.3054e-06 - val_fn: 10.0000 - val_fp: 339.0000 - val_tn: 56547.0000 - val_tp: 65.0000 - val_precision: 0.1609 - val_recall: 0.8667\n",
            "Epoch 34/50\n",
            "227846/227846 - 1s - loss: 2.2129e-07 - fn: 0.0000e+00 - fp: 1965.0000 - tn: 225464.0000 - tp: 417.0000 - precision: 0.1751 - recall: 1.0000 - val_loss: 7.3117e-06 - val_fn: 12.0000 - val_fp: 152.0000 - val_tn: 56734.0000 - val_tp: 63.0000 - val_precision: 0.2930 - val_recall: 0.8400\n",
            "Epoch 35/50\n",
            "227846/227846 - 1s - loss: 1.7601e-07 - fn: 1.0000 - fp: 1872.0000 - tn: 225557.0000 - tp: 416.0000 - precision: 0.1818 - recall: 0.9976 - val_loss: 6.0507e-06 - val_fn: 10.0000 - val_fp: 223.0000 - val_tn: 56663.0000 - val_tp: 65.0000 - val_precision: 0.2257 - val_recall: 0.8667\n",
            "Epoch 36/50\n",
            "227846/227846 - 1s - loss: 1.4470e-07 - fn: 1.0000 - fp: 1504.0000 - tn: 225925.0000 - tp: 416.0000 - precision: 0.2167 - recall: 0.9976 - val_loss: 5.1699e-06 - val_fn: 8.0000 - val_fp: 496.0000 - val_tn: 56390.0000 - val_tp: 67.0000 - val_precision: 0.1190 - val_recall: 0.8933\n",
            "Epoch 37/50\n",
            "227846/227846 - 1s - loss: 2.4051e-07 - fn: 1.0000 - fp: 3140.0000 - tn: 224289.0000 - tp: 416.0000 - precision: 0.1170 - recall: 0.9976 - val_loss: 6.0953e-06 - val_fn: 10.0000 - val_fp: 255.0000 - val_tn: 56631.0000 - val_tp: 65.0000 - val_precision: 0.2031 - val_recall: 0.8667\n",
            "Epoch 38/50\n",
            "227846/227846 - 1s - loss: 1.8736e-07 - fn: 2.0000 - fp: 1747.0000 - tn: 225682.0000 - tp: 415.0000 - precision: 0.1920 - recall: 0.9952 - val_loss: 4.6144e-06 - val_fn: 8.0000 - val_fp: 645.0000 - val_tn: 56241.0000 - val_tp: 67.0000 - val_precision: 0.0941 - val_recall: 0.8933\n",
            "Epoch 39/50\n",
            "227846/227846 - 1s - loss: 1.4929e-07 - fn: 0.0000e+00 - fp: 2041.0000 - tn: 225388.0000 - tp: 417.0000 - precision: 0.1697 - recall: 1.0000 - val_loss: 7.3053e-06 - val_fn: 12.0000 - val_fp: 170.0000 - val_tn: 56716.0000 - val_tp: 63.0000 - val_precision: 0.2704 - val_recall: 0.8400\n",
            "Epoch 40/50\n",
            "227846/227846 - 1s - loss: 9.7032e-08 - fn: 0.0000e+00 - fp: 1038.0000 - tn: 226391.0000 - tp: 417.0000 - precision: 0.2866 - recall: 1.0000 - val_loss: 7.3732e-06 - val_fn: 11.0000 - val_fp: 207.0000 - val_tn: 56679.0000 - val_tp: 64.0000 - val_precision: 0.2362 - val_recall: 0.8533\n",
            "Epoch 41/50\n",
            "227846/227846 - 1s - loss: 1.2781e-07 - fn: 1.0000 - fp: 1560.0000 - tn: 225869.0000 - tp: 416.0000 - precision: 0.2105 - recall: 0.9976 - val_loss: 6.4396e-06 - val_fn: 9.0000 - val_fp: 191.0000 - val_tn: 56695.0000 - val_tp: 66.0000 - val_precision: 0.2568 - val_recall: 0.8800\n",
            "Epoch 42/50\n",
            "227846/227846 - 1s - loss: 1.6284e-07 - fn: 1.0000 - fp: 1294.0000 - tn: 226135.0000 - tp: 416.0000 - precision: 0.2433 - recall: 0.9976 - val_loss: 6.8853e-06 - val_fn: 10.0000 - val_fp: 306.0000 - val_tn: 56580.0000 - val_tp: 65.0000 - val_precision: 0.1752 - val_recall: 0.8667\n",
            "Epoch 43/50\n",
            "227846/227846 - 1s - loss: 1.8633e-07 - fn: 0.0000e+00 - fp: 1723.0000 - tn: 225706.0000 - tp: 417.0000 - precision: 0.1949 - recall: 1.0000 - val_loss: 7.3375e-06 - val_fn: 11.0000 - val_fp: 241.0000 - val_tn: 56645.0000 - val_tp: 64.0000 - val_precision: 0.2098 - val_recall: 0.8533\n",
            "Epoch 44/50\n",
            "227846/227846 - 1s - loss: 1.8966e-07 - fn: 2.0000 - fp: 1930.0000 - tn: 225499.0000 - tp: 415.0000 - precision: 0.1770 - recall: 0.9952 - val_loss: 6.6766e-06 - val_fn: 7.0000 - val_fp: 1115.0000 - val_tn: 55771.0000 - val_tp: 68.0000 - val_precision: 0.0575 - val_recall: 0.9067\n",
            "Epoch 45/50\n",
            "227846/227846 - 1s - loss: 7.1130e-07 - fn: 5.0000 - fp: 4080.0000 - tn: 223349.0000 - tp: 412.0000 - precision: 0.0917 - recall: 0.9880 - val_loss: 4.8911e-06 - val_fn: 7.0000 - val_fp: 606.0000 - val_tn: 56280.0000 - val_tp: 68.0000 - val_precision: 0.1009 - val_recall: 0.9067\n",
            "Epoch 46/50\n",
            "227846/227846 - 1s - loss: 3.8204e-07 - fn: 2.0000 - fp: 3960.0000 - tn: 223469.0000 - tp: 415.0000 - precision: 0.0949 - recall: 0.9952 - val_loss: 4.7231e-06 - val_fn: 8.0000 - val_fp: 204.0000 - val_tn: 56682.0000 - val_tp: 67.0000 - val_precision: 0.2472 - val_recall: 0.8933\n",
            "Epoch 47/50\n",
            "227846/227846 - 1s - loss: 2.3341e-07 - fn: 3.0000 - fp: 2517.0000 - tn: 224912.0000 - tp: 414.0000 - precision: 0.1412 - recall: 0.9928 - val_loss: 3.3453e-06 - val_fn: 8.0000 - val_fp: 1953.0000 - val_tn: 54933.0000 - val_tp: 67.0000 - val_precision: 0.0332 - val_recall: 0.8933\n",
            "Epoch 48/50\n",
            "227846/227846 - 1s - loss: 2.2252e-07 - fn: 1.0000 - fp: 2684.0000 - tn: 224745.0000 - tp: 416.0000 - precision: 0.1342 - recall: 0.9976 - val_loss: 4.7390e-06 - val_fn: 11.0000 - val_fp: 175.0000 - val_tn: 56711.0000 - val_tp: 64.0000 - val_precision: 0.2678 - val_recall: 0.8533\n",
            "Epoch 49/50\n",
            "227846/227846 - 1s - loss: 1.6172e-07 - fn: 1.0000 - fp: 1950.0000 - tn: 225479.0000 - tp: 416.0000 - precision: 0.1758 - recall: 0.9976 - val_loss: 6.9317e-06 - val_fn: 13.0000 - val_fp: 97.0000 - val_tn: 56789.0000 - val_tp: 62.0000 - val_precision: 0.3899 - val_recall: 0.8267\n",
            "Epoch 50/50\n",
            "227846/227846 - 1s - loss: 1.4446e-07 - fn: 2.0000 - fp: 1509.0000 - tn: 225920.0000 - tp: 415.0000 - precision: 0.2157 - recall: 0.9952 - val_loss: 6.8282e-06 - val_fn: 14.0000 - val_fp: 74.0000 - val_tn: 56812.0000 - val_tp: 61.0000 - val_precision: 0.4519 - val_recall: 0.8133\n"
          ],
          "name": "stdout"
        },
        {
          "output_type": "execute_result",
          "data": {
            "text/plain": [
              "<tensorflow.python.keras.callbacks.History at 0x7fa2b9f3dbe0>"
            ]
          },
          "metadata": {
            "tags": []
          },
          "execution_count": 27
        }
      ]
    },
    {
      "cell_type": "code",
      "metadata": {
        "id": "bqUqXpbmAAJP",
        "colab_type": "code",
        "colab": {}
      },
      "source": [
        ""
      ],
      "execution_count": 0,
      "outputs": []
    }
  ]
}