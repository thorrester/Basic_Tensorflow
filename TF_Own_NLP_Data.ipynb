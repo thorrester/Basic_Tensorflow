{
 "cells": [
  {
   "cell_type": "markdown",
   "metadata": {},
   "source": [
    "# Using TensorFlow with own data\n",
    "- notebook focusing on formatting and feeding raw data into a neural network\n",
    "- download pos and neg word docs, which will need to be converted to a vector of features\n",
    "- Steps:\n",
    " 1. Use simple bag-of-words model to create unique word list and label training vector based on indices of unique word vector"
   ]
  },
  {
   "cell_type": "code",
   "execution_count": 34,
   "metadata": {},
   "outputs": [],
   "source": [
    "import nltk\n",
    "from nltk.tokenize import word_tokenize\n",
    "import numpy as np\n",
    "import random\n",
    "import pickle\n",
    "from collections import Counter\n",
    "from nltk.stem import WordNetLemmatizer\n",
    "import tensorflow as tf\n",
    "import matplotlib.pyplot as plt\n",
    "from functions.random_mini_batches import random_mini_batches"
   ]
  },
  {
   "cell_type": "code",
   "execution_count": 2,
   "metadata": {},
   "outputs": [
    {
     "data": {
      "text/plain": [
       "'/Users/thor/Python/Projects/Tensorflow'"
      ]
     },
     "execution_count": 2,
     "metadata": {},
     "output_type": "execute_result"
    }
   ],
   "source": [
    "import os\n",
    "os.getcwd()"
   ]
  },
  {
   "cell_type": "code",
   "execution_count": 3,
   "metadata": {},
   "outputs": [],
   "source": [
    "lemmatizer = WordNetLemmatizer()\n",
    "hm_lines = 100000\n",
    "\n",
    "pos = 'data/pos.txt'\n",
    "neg = 'data/neg.txt'"
   ]
  },
  {
   "cell_type": "code",
   "execution_count": 4,
   "metadata": {},
   "outputs": [],
   "source": [
    "def create_lexicon(pos,neg):\n",
    "\n",
    "# Open the text files, tokenize the words, and add them to the lexicon\n",
    "\n",
    "    lexicon=[]\n",
    "    with open(pos, 'r') as f:\n",
    "        contents = f.readlines()\n",
    "        for l in contents[:hm_lines]:\n",
    "            all_words = word_tokenize(l)\n",
    "            lexicon += list(all_words)\n",
    "        \n",
    "    with open(neg, 'r') as f:\n",
    "        contents = f.readlines()\n",
    "        for l in contents[:hm_lines]:\n",
    "            all_words = word_tokenize(l)\n",
    "            lexicon += list(all_words)\n",
    "            \n",
    "# need to lemmatize the words to remove duplicates and common words\n",
    "\n",
    "    lexicon = [lemmatizer.lemmatize(word) for word in lexicon]\n",
    "    w_counts = Counter(lexicon)\n",
    "    l2 = []\n",
    "    for w in w_counts:\n",
    "        if 1000 > w_counts[w] > 50:\n",
    "            l2.append(w)\n",
    "    return l2"
   ]
  },
  {
   "cell_type": "code",
   "execution_count": 5,
   "metadata": {},
   "outputs": [],
   "source": [
    "def sample_handling(sample,lexicon,classification):\n",
    "    \n",
    "    featureset=[]\n",
    "    \n",
    "    with open(sample, 'r') as f:\n",
    "        contents = f.readlines()\n",
    "        for l in contents[:hm_lines]:\n",
    "            current_words = word_tokenize(l.lower())\n",
    "            current_words = [lemmatizer.lemmatize(word) for word in current_words]\n",
    "            features = np.zeros(len(lexicon))\n",
    "            for word in current_words:\n",
    "                if word.lower() in lexicon:\n",
    "                    index_value = lexicon.index(word.lower())\n",
    "                    features[index_value] += 1\n",
    "                    \n",
    "            features = list(features)\n",
    "            featureset.append([features,classification])\n",
    "            \n",
    "    return featureset"
   ]
  },
  {
   "cell_type": "code",
   "execution_count": 6,
   "metadata": {},
   "outputs": [],
   "source": [
    "def create_feature_sets_and_labels(pos,neg,test_size = 0.1):\n",
    "    lexicon = create_lexicon(pos,neg)\n",
    "    print(len(lexicon))\n",
    "    features = []\n",
    "    features += sample_handling('data/pos.txt', lexicon, [1,0])\n",
    "    features += sample_handling('data/neg.txt', lexicon, [0,1])\n",
    "    random.shuffle(features)\n",
    "    features = np.array(features)\n",
    "    print(features.shape)\n",
    "    \n",
    "    testing_size = int(test_size*len(features))\n",
    "    \n",
    "    x_train = list(features[:,0][:-testing_size])\n",
    "    y_train = list(features[:,1][:-testing_size])\n",
    "    x_test = list(features[:,0][-testing_size:])\n",
    "    y_test = list(features[:,1][-testing_size:])\n",
    "    \n",
    "    return x_train, y_train, x_test, y_test, features"
   ]
  },
  {
   "cell_type": "code",
   "execution_count": 7,
   "metadata": {},
   "outputs": [
    {
     "name": "stdout",
     "output_type": "stream",
     "text": [
      "423\n",
      "(10662, 2)\n"
     ]
    }
   ],
   "source": [
    "if __name__ == '__main__':\n",
    "    x_train, y_train, x_test, y_test, features = create_feature_sets_and_labels(pos,neg)\n",
    "#with open('data/final_data.pickle','wb') as f:\n",
    "   # pickle.dump([x_train,y_train,x_test,y_test],f)"
   ]
  },
  {
   "cell_type": "code",
   "execution_count": 8,
   "metadata": {},
   "outputs": [
    {
     "name": "stdout",
     "output_type": "stream",
     "text": [
      "Shape is (n_features,n_samples)\n",
      "X_train shape: (9596, 423)\n",
      "y_train shape: (9596, 2)\n",
      "X_train shape: (1066, 423)\n",
      "y_train shape: (1066, 2)\n"
     ]
    }
   ],
   "source": [
    "X_train = np.asanyarray(x_train,dtype=np.float32)\n",
    "X_test = np.asanyarray(x_test, dtype=np.float32)\n",
    "y_train = np.asanyarray(y_train, dtype=np.float32)\n",
    "y_test = np.asanyarray(y_test, dtype=np.float32)\n",
    "\n",
    "print('Shape is (n_features,n_samples)')\n",
    "print(f'X_train shape: {X_train.shape}')\n",
    "print(f'y_train shape: {y_train.shape}')\n",
    "print(f'X_train shape: {X_test.shape}')\n",
    "print(f'y_train shape: {y_test.shape}')"
   ]
  },
  {
   "cell_type": "code",
   "execution_count": 60,
   "metadata": {},
   "outputs": [],
   "source": [
    "# Create and build model\n",
    "tf.reset_default_graph()\n",
    "# Define hidden layers and how many nodes\n",
    "n_nodes_hl1 = 1500\n",
    "n_nodes_hl2 = 1500\n",
    "n_nodes_hl3 = 1500\n",
    "\n",
    "# Define number of classes\n",
    "n_classes = 2\n",
    "\n",
    "x = tf.placeholder('float')\n",
    "y = tf.placeholder('float')\n",
    "\n",
    "hidden_1_layer = {'f_fum':n_nodes_hl1,\n",
    "                  'weight':tf.get_variable(\"W1\", [X_train.shape[1], n_nodes_hl1], initializer = tf.contrib.layers.xavier_initializer(seed = 1)),\n",
    "                  'bias':tf.get_variable(\"b1\", [n_nodes_hl1], initializer = tf.zeros_initializer())}\n",
    "\n",
    "hidden_2_layer = {'f_fum':n_nodes_hl2,\n",
    "                  'weight':tf.get_variable(\"W2\",[n_nodes_hl1, n_nodes_hl2], initializer = tf.contrib.layers.xavier_initializer(seed = 1)),\n",
    "                  'bias':tf.get_variable(\"b2\", [n_nodes_hl2], initializer = tf.zeros_initializer())}\n",
    "\n",
    "hidden_3_layer = {'f_fum':n_nodes_hl3,\n",
    "                  'weight':tf.get_variable(\"W3\", [n_nodes_hl2, n_nodes_hl3], initializer = tf.contrib.layers.xavier_initializer(seed = 1)),\n",
    "                  'bias':tf.get_variable(\"b3\", [n_nodes_hl3], initializer = tf.zeros_initializer())}\n",
    "\n",
    "output_layer = {'f_fum':None,\n",
    "                'weight':tf.get_variable(\"out_w\",[n_nodes_hl3, n_classes], initializer = tf.contrib.layers.xavier_initializer(seed = 1)),\n",
    "                'bias':tf.get_variable(\"out_b\", [n_classes], initializer = tf.zeros_initializer())}\n",
    "\n",
    "\n",
    "# Nothing changes\n",
    "def neural_network_model(x):\n",
    "\n",
    "    l1 = tf.add(tf.matmul(x,hidden_1_layer['weight']), hidden_1_layer['bias'])\n",
    "    l1 = tf.nn.relu(l1)\n",
    "\n",
    "    l2 = tf.add(tf.matmul(l1,hidden_2_layer['weight']), hidden_2_layer['bias'])\n",
    "    l2 = tf.nn.relu(l2)\n",
    "\n",
    "    l3 = tf.add(tf.matmul(l2,hidden_3_layer['weight']), hidden_3_layer['bias'])\n",
    "    l3 = tf.nn.relu(l3)\n",
    "\n",
    "    output = tf.matmul(l3,output_layer['weight']) + output_layer['bias']\n",
    "\n",
    "    return output\n",
    "\n",
    "# Create function to train the neural net\n",
    "def train_neural_network(X_train, y_train, X_test, y_test, epochs = 10, batch_size=64):\n",
    "    costs=[]\n",
    "    \n",
    "    # Resert graph\n",
    "    #tf.reset_default_graph()\n",
    "    \n",
    "    #Training the network\n",
    "    prediction = neural_network_model(x)\n",
    "    \n",
    "    # Define the cost\n",
    "    cost = tf.reduce_mean(tf.nn.softmax_cross_entropy_with_logits(logits = prediction, labels = y))\n",
    "    \n",
    "    # Define the optimizer\n",
    "    optimizer = tf.train.AdamOptimizer(learning_rate=0.001).minimize(cost)\n",
    "\n",
    "    # Run the session\n",
    "    with tf.Session() as sess:\n",
    "        sess.run(tf.initialize_all_variables())\n",
    "        \n",
    "        for epoch in range(epochs):\n",
    "            epoch_loss = 0\n",
    "            i=0\n",
    "            while i < len(X_train):\n",
    "                start = i\n",
    "                end = i+batch_size\n",
    "                batch_x = np.array(X_train[start:end])\n",
    "                batch_y = np.array(y_train[start:end])\n",
    "\n",
    "                _, c = sess.run([optimizer, cost], feed_dict={x: batch_x, y: batch_y})\n",
    "                \n",
    "                epoch_loss += c\n",
    "                \n",
    "                i+=batch_size\n",
    "            \n",
    "            # Append costs\n",
    "            costs.append(epoch_loss)\n",
    "                \n",
    "            print('Epoch', epoch, 'completed out of',epochs,'loss:',epoch_loss)\n",
    "            \n",
    "        # This will tell how many predictions we made that were perfect matches to their labels\n",
    "        correct = tf.equal(tf.argmax(prediction, 1), tf.argmax(y, 1))\n",
    "        accuracy = tf.reduce_mean(tf.cast(correct, 'float'))\n",
    "        \n",
    "        print (\"Train Accuracy:\", accuracy.eval({x: X_train, y: y_train}))\n",
    "        print (\"Test Accuracy:\", accuracy.eval({x: X_test, y: y_test}))\n",
    "        \n",
    "        # plot the cost\n",
    "        plt.plot(np.squeeze(costs))\n",
    "        plt.ylabel('cost')\n",
    "        plt.xlabel('iterations (per tens)')\n",
    "        plt.title(\"Learning rate = 0.001\")\n",
    "        plt.show()"
   ]
  },
  {
   "cell_type": "code",
   "execution_count": 50,
   "metadata": {},
   "outputs": [],
   "source": [
    "tf.reset_default_graph()"
   ]
  },
  {
   "cell_type": "code",
   "execution_count": 61,
   "metadata": {},
   "outputs": [
    {
     "name": "stdout",
     "output_type": "stream",
     "text": [
      "Epoch 0 completed out of 10 loss: 47.17059379816055\n",
      "Epoch 1 completed out of 10 loss: 38.872838139534\n",
      "Epoch 2 completed out of 10 loss: 27.886696860194206\n",
      "Epoch 3 completed out of 10 loss: 23.69697017967701\n",
      "Epoch 4 completed out of 10 loss: 16.727659679949284\n",
      "Epoch 5 completed out of 10 loss: 11.768742576241493\n",
      "Epoch 6 completed out of 10 loss: 8.570060409605503\n",
      "Epoch 7 completed out of 10 loss: 6.938731741160154\n",
      "Epoch 8 completed out of 10 loss: 6.427898189052939\n",
      "Epoch 9 completed out of 10 loss: 6.904309406876564\n",
      "Train Accuracy: 0.9513339\n",
      "Test Accuracy: 0.6407129\n"
     ]
    },
    {
     "data": {
      "image/png": "[encoded data removed]",
      "text/plain": [
       "<Figure size 432x288 with 1 Axes>"
      ]
     },
     "metadata": {
      "needs_background": "light"
     },
     "output_type": "display_data"
    }
   ],
   "source": [
    "train_neural_network(X_train, y_train, X_test, y_test, epochs=10, batch_size=128)"
   ]
  }
 ],
 "metadata": {
  "kernelspec": {
   "display_name": "Python 3",
   "language": "python",
   "name": "python3"
  },
  "language_info": {
   "codemirror_mode": {
    "name": "ipython",
    "version": 3
   },
   "file_extension": ".py",
   "mimetype": "text/x-python",
   "name": "python",
   "nbconvert_exporter": "python",
   "pygments_lexer": "ipython3",
   "version": "3.6.8"
  }
 },
 "nbformat": 4,
 "nbformat_minor": 4
}
